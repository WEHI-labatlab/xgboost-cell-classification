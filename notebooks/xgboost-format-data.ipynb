{
 "cells": [
  {
   "cell_type": "markdown",
   "metadata": {},
   "source": [
    "# Format Functional marker input\n",
    "This notebook is for formatting raw QuPath measurements so that Xgboost can be trained.  \n",
    "For each marker, the labels will be saved as a separate file. The numerical data will also be saved at the end.  "
   ]
  },
  {
   "cell_type": "code",
   "execution_count": 1,
   "metadata": {},
   "outputs": [],
   "source": [
    "import pandas as pd\n",
    "import numpy as np\n",
    "import re"
   ]
  },
  {
   "cell_type": "code",
   "execution_count": 10,
   "metadata": {},
   "outputs": [],
   "source": [
    "batch_name = \"UKcohort_nonSIMS_1\""
   ]
  },
  {
   "cell_type": "code",
   "execution_count": 3,
   "metadata": {},
   "outputs": [],
   "source": [
    "folder = \"/Users/yokote.k/Desktop/MIBI/xgboost/resources/original/UK cohort/\""
   ]
  },
  {
   "cell_type": "code",
   "execution_count": 5,
   "metadata": {},
   "outputs": [],
   "source": [
    "whole_data_fm_df = pd.read_csv(\"/Users/yokote.k/Desktop/MIBI/xgboost/resources/original/UK cohort/UKcohort_nonSIMS_measurements.csv\")\n",
    "# functional_marker_labels  = whole_data_fm_df.loc[:,[\"Image\", \"Name\"]]"
   ]
  },
  {
   "cell_type": "markdown",
   "metadata": {},
   "source": [
    "## Training or applying to unlabelled data\n",
    "If you are preprocessing the data to train an xgboost model, please leave as True.\n",
    "\n",
    "If you are preprocessing the data to apply to an already trained model, please change to False"
   ]
  },
  {
   "cell_type": "code",
   "execution_count": 6,
   "metadata": {},
   "outputs": [],
   "source": [
    "is_for_functional_marker_training = False\n",
    "is_for_training = False"
   ]
  },
  {
   "cell_type": "code",
   "execution_count": 7,
   "metadata": {},
   "outputs": [],
   "source": [
    "import json\n",
    "old_labels = pd.read_csv(\"/Users/yokote.k/Desktop/MIBI/xgboost/resources/formatted/old_data/labels_ver6.csv.gz\")\n",
    "with open('/Users/yokote.k/Desktop/MIBI/xgboost/resources/formatted/old_data/decoder.json') as json_file:\n",
    "    decode = json.load(json_file)\n",
    "\n",
    "decode_ = {}\n",
    "encode = {}\n",
    "for k, v in decode.items():\n",
    "    decode_[int(k)] = v\n",
    "    encode[v] = int(k)\n",
    "decode = decode_"
   ]
  },
  {
   "cell_type": "markdown",
   "metadata": {},
   "source": [
    "## All the extra markers "
   ]
  },
  {
   "cell_type": "code",
   "execution_count": null,
   "metadata": {},
   "outputs": [],
   "source": [
    "# functional_markers = [\"CTLA4\", \"GrzB\", \"ICOS\", \"IFNG\", \"Ki67\", \"LAG3\", \"OX40\", \"PD1\", \"Tim3\"]\n",
    "# other_phenotypic_markers = [\"CD103\",\"CD14\", \"CD16\", \"CD163\", \"CD206\", \"CD45RA\", \"CD45RO\", \"CD49a\", \"CD69\", r\"MHC I (HLA Class1)\", r\"MHC II (HLA-DR)\"]\n",
    "\n",
    "functional_markers = [\"CTLA4\", \"GrzB\", \"ICOS\", \"Ki67\", \"LAG3\", \"OX40\", \"CD45RA\"]"
   ]
  },
  {
   "cell_type": "markdown",
   "metadata": {},
   "source": [
    "## Read the QuPath data"
   ]
  },
  {
   "cell_type": "markdown",
   "metadata": {},
   "source": [
    "## Format the functional marker labels\n",
    "Using one hot encode scheme"
   ]
  },
  {
   "cell_type": "code",
   "execution_count": 8,
   "metadata": {},
   "outputs": [],
   "source": [
    "functional_marker_labels  = whole_data_fm_df.loc[:,[\"Image\", \"Name\"]]\n",
    "functional_marker_labels.loc[:,  \"Name\"] = functional_marker_labels.loc[:,  \"Name\"].str.replace(\"_\", \" \")\n",
    "if is_for_functional_marker_training:\n",
    "    functional_marker_labels.loc[:, functional_markers] = 0\n",
    "\n",
    "    for fm in functional_markers:\n",
    "        # Just be careful. If you have astir results then might need \":\"\n",
    "        str_ = re.escape(fm + \"+\")\n",
    "        bool_arr = functional_marker_labels.loc[:, \"Name\"].str.split(': ', expand=True) == str_\n",
    "        functional_marker_labels.loc[bool_arr.sum(axis=1) > 0, fm] = 1"
   ]
  },
  {
   "cell_type": "code",
   "execution_count": null,
   "metadata": {},
   "outputs": [],
   "source": [
    "if is_for_functional_marker_training:\n",
    "    for marker in functional_markers:\n",
    "        filename = folder + \"{}_{}_labels.gz\".format(batch_name, marker)\n",
    "        functional_marker_labels.loc[:, marker].to_csv(filename, index=False, compression='gzip')"
   ]
  },
  {
   "cell_type": "code",
   "execution_count": null,
   "metadata": {},
   "outputs": [],
   "source": [
    "if is_for_training:\n",
    "    filename = folder + \"{}_labels.gz\".format(batch_name)\n",
    "    labels = whole_data_fm_df.loc[:, [\"Name\"]]\n",
    "    labels = labels.replace({\"Name\" : encode})\n",
    "    labels.to_csv(filename, index=False, compression='gzip')"
   ]
  },
  {
   "cell_type": "markdown",
   "metadata": {},
   "source": [
    "## Save images which each of the cells belong to"
   ]
  },
  {
   "cell_type": "code",
   "execution_count": 11,
   "metadata": {},
   "outputs": [],
   "source": [
    "whole_data_fm_df.loc[:, \"Image\"].to_csv(folder + \"{}_images.csv\".format(batch_name), index=False)"
   ]
  },
  {
   "cell_type": "markdown",
   "metadata": {},
   "source": [
    "## Format the numerical data"
   ]
  },
  {
   "cell_type": "markdown",
   "metadata": {},
   "source": [
    "This is to remove columns which will not be used for the training. \n",
    "\n",
    "We only want the columns which are marker measurements. This starts from column number 20. We are not inputting any of the shape measurements. The last measurement will be 2300. If you are unsure, please check the data frame. The very first measurement after removing all of the unwanted columns should be \"Beta-Tubulin: Cell: Mean\" and the last measurements should be \"Vimentin: Cell: Percentile: 99.9\""
   ]
  },
  {
   "cell_type": "code",
   "execution_count": 12,
   "metadata": {},
   "outputs": [
    {
     "name": "stdout",
     "output_type": "stream",
     "text": [
      "Num cells in Mar21_LLL-2.tiff: 6363\n",
      "Num cells in Jun20_LT-5.tiff: 2399\n",
      "Num cells in Dec20_LING-3.tiff: 1168\n",
      "Num cells in Jan20_LLL-2.tiff: 1630\n",
      "Num cells in Mar21_LT-1.tiff: 601\n",
      "Num cells in Jan20_LLL-3.tiff: 1275\n"
     ]
    }
   ],
   "source": [
    "for image in whole_data_fm_df.loc[:, \"Image\"].unique():\n",
    "    bool_arr = whole_data_fm_df.loc[:, \"Image\"] == image\n",
    "    filtered_df = whole_data_fm_df.loc[bool_arr, :]\n",
    "    print(\"Num cells in {}: {}\".format(image,filtered_df.shape[0]))"
   ]
  },
  {
   "cell_type": "code",
   "execution_count": 13,
   "metadata": {},
   "outputs": [],
   "source": [
    "new_whole_data_fm_df = whole_data_fm_df"
   ]
  },
  {
   "cell_type": "markdown",
   "metadata": {},
   "source": []
  },
  {
   "cell_type": "code",
   "execution_count": 15,
   "metadata": {},
   "outputs": [],
   "source": [
    "new_whole_data_fm_df.columns = new_whole_data_fm_df.columns.str.replace(\"Target:\", \"\")\n",
    "new_whole_data_fm_df.columns = new_whole_data_fm_df.columns.str.replace(\"_\", \" \")"
   ]
  },
  {
   "cell_type": "code",
   "execution_count": 17,
   "metadata": {},
   "outputs": [],
   "source": [
    "for col in new_whole_data_fm_df.columns:\n",
    "    null_arr = new_whole_data_fm_df.loc[:, col].isnull()\n",
    "    if null_arr.values.any():\n",
    "        if \"Cytoplasm\" in col: \n",
    "            new_col = col.replace(\"Cytoplasm\", \"Membrane\", 1)\n",
    "            new_whole_data_fm_df.loc[null_arr.values, col] = new_whole_data_fm_df.loc[null_arr.values, new_col]"
   ]
  },
  {
   "cell_type": "code",
   "execution_count": 18,
   "metadata": {},
   "outputs": [
    {
     "data": {
      "text/plain": [
       "Series([], Name: Vimentin: Cell: Percentile: 99.9, dtype: float64)"
      ]
     },
     "execution_count": 18,
     "metadata": {},
     "output_type": "execute_result"
    }
   ],
   "source": [
    "new_whole_data_fm_df.loc[null_arr.values, col]\n"
   ]
  },
  {
   "cell_type": "code",
   "execution_count": 19,
   "metadata": {},
   "outputs": [],
   "source": [
    "new_whole_data_fm_df = new_whole_data_fm_df.loc[:, ~new_whole_data_fm_df.columns.duplicated()]"
   ]
  },
  {
   "cell_type": "code",
   "execution_count": 20,
   "metadata": {},
   "outputs": [
    {
     "data": {
      "text/plain": [
       "array(['Class'], dtype=object)"
      ]
     },
     "execution_count": 20,
     "metadata": {},
     "output_type": "execute_result"
    }
   ],
   "source": [
    "new_whole_data_fm_df.columns[new_whole_data_fm_df.isna().any()].values"
   ]
  },
  {
   "cell_type": "code",
   "execution_count": 21,
   "metadata": {},
   "outputs": [
    {
     "data": {
      "text/html": [
       "<div>\n",
       "<style scoped>\n",
       "    .dataframe tbody tr th:only-of-type {\n",
       "        vertical-align: middle;\n",
       "    }\n",
       "\n",
       "    .dataframe tbody tr th {\n",
       "        vertical-align: top;\n",
       "    }\n",
       "\n",
       "    .dataframe thead th {\n",
       "        text-align: right;\n",
       "    }\n",
       "</style>\n",
       "<table border=\"1\" class=\"dataframe\">\n",
       "  <thead>\n",
       "    <tr style=\"text-align: right;\">\n",
       "      <th></th>\n",
       "      <th>Image</th>\n",
       "      <th>Name</th>\n",
       "      <th>Class</th>\n",
       "      <th>Parent</th>\n",
       "      <th>ROI</th>\n",
       "      <th>Centroid X px</th>\n",
       "      <th>Centroid Y px</th>\n",
       "      <th>Nucleus: Area px^2</th>\n",
       "      <th>Nucleus: Length px</th>\n",
       "      <th>Nucleus: Circularity</th>\n",
       "      <th>...</th>\n",
       "      <th>Vimentin: Membrane: Percentile: 98.0</th>\n",
       "      <th>Vimentin: Membrane: Percentile: 99.0</th>\n",
       "      <th>Vimentin: Membrane: Percentile: 99.5</th>\n",
       "      <th>Vimentin: Membrane: Percentile: 99.9</th>\n",
       "      <th>Vimentin: Cell: Percentile: 96.0</th>\n",
       "      <th>Vimentin: Cell: Percentile: 97.0</th>\n",
       "      <th>Vimentin: Cell: Percentile: 98.0</th>\n",
       "      <th>Vimentin: Cell: Percentile: 99.0</th>\n",
       "      <th>Vimentin: Cell: Percentile: 99.5</th>\n",
       "      <th>Vimentin: Cell: Percentile: 99.9</th>\n",
       "    </tr>\n",
       "  </thead>\n",
       "  <tbody>\n",
       "    <tr>\n",
       "      <th>0</th>\n",
       "      <td>Mar21_LLL-2.tiff</td>\n",
       "      <td>PathCellObject</td>\n",
       "      <td>NaN</td>\n",
       "      <td>PathAnnotationObject</td>\n",
       "      <td>Polygon</td>\n",
       "      <td>1380.10</td>\n",
       "      <td>49.80</td>\n",
       "      <td>315.7316</td>\n",
       "      <td>84.6482</td>\n",
       "      <td>0.5537</td>\n",
       "      <td>...</td>\n",
       "      <td>0.00</td>\n",
       "      <td>0.0</td>\n",
       "      <td>0</td>\n",
       "      <td>0</td>\n",
       "      <td>0.00</td>\n",
       "      <td>0.00</td>\n",
       "      <td>2.28</td>\n",
       "      <td>4.00</td>\n",
       "      <td>5.000</td>\n",
       "      <td>7.0</td>\n",
       "    </tr>\n",
       "    <tr>\n",
       "      <th>1</th>\n",
       "      <td>Mar21_LLL-2.tiff</td>\n",
       "      <td>PathCellObject</td>\n",
       "      <td>NaN</td>\n",
       "      <td>PathAnnotationObject</td>\n",
       "      <td>Polygon</td>\n",
       "      <td>1370.40</td>\n",
       "      <td>64.52</td>\n",
       "      <td>127.5231</td>\n",
       "      <td>52.6173</td>\n",
       "      <td>0.5788</td>\n",
       "      <td>...</td>\n",
       "      <td>3.00</td>\n",
       "      <td>3.0</td>\n",
       "      <td>3</td>\n",
       "      <td>3</td>\n",
       "      <td>1.00</td>\n",
       "      <td>2.00</td>\n",
       "      <td>2.40</td>\n",
       "      <td>3.00</td>\n",
       "      <td>3.000</td>\n",
       "      <td>3.0</td>\n",
       "    </tr>\n",
       "    <tr>\n",
       "      <th>2</th>\n",
       "      <td>Mar21_LLL-2.tiff</td>\n",
       "      <td>PathCellObject</td>\n",
       "      <td>NaN</td>\n",
       "      <td>PathAnnotationObject</td>\n",
       "      <td>Polygon</td>\n",
       "      <td>1387.80</td>\n",
       "      <td>66.11</td>\n",
       "      <td>55.9859</td>\n",
       "      <td>33.8894</td>\n",
       "      <td>0.6126</td>\n",
       "      <td>...</td>\n",
       "      <td>2.00</td>\n",
       "      <td>2.0</td>\n",
       "      <td>2</td>\n",
       "      <td>2</td>\n",
       "      <td>0.00</td>\n",
       "      <td>0.00</td>\n",
       "      <td>1.76</td>\n",
       "      <td>2.00</td>\n",
       "      <td>2.000</td>\n",
       "      <td>2.0</td>\n",
       "    </tr>\n",
       "    <tr>\n",
       "      <th>3</th>\n",
       "      <td>Mar21_LLL-2.tiff</td>\n",
       "      <td>PathCellObject</td>\n",
       "      <td>NaN</td>\n",
       "      <td>PathAnnotationObject</td>\n",
       "      <td>Polygon</td>\n",
       "      <td>1456.10</td>\n",
       "      <td>70.34</td>\n",
       "      <td>377.7602</td>\n",
       "      <td>91.4318</td>\n",
       "      <td>0.5678</td>\n",
       "      <td>...</td>\n",
       "      <td>0.00</td>\n",
       "      <td>0.0</td>\n",
       "      <td>0</td>\n",
       "      <td>0</td>\n",
       "      <td>0.00</td>\n",
       "      <td>0.00</td>\n",
       "      <td>0.00</td>\n",
       "      <td>0.00</td>\n",
       "      <td>1.755</td>\n",
       "      <td>4.0</td>\n",
       "    </tr>\n",
       "    <tr>\n",
       "      <th>4</th>\n",
       "      <td>Mar21_LLL-2.tiff</td>\n",
       "      <td>PathCellObject</td>\n",
       "      <td>NaN</td>\n",
       "      <td>PathAnnotationObject</td>\n",
       "      <td>Polygon</td>\n",
       "      <td>1326.40</td>\n",
       "      <td>74.08</td>\n",
       "      <td>225.9946</td>\n",
       "      <td>67.9238</td>\n",
       "      <td>0.6155</td>\n",
       "      <td>...</td>\n",
       "      <td>0.00</td>\n",
       "      <td>0.0</td>\n",
       "      <td>0</td>\n",
       "      <td>0</td>\n",
       "      <td>0.00</td>\n",
       "      <td>0.00</td>\n",
       "      <td>0.00</td>\n",
       "      <td>1.00</td>\n",
       "      <td>2.000</td>\n",
       "      <td>3.0</td>\n",
       "    </tr>\n",
       "    <tr>\n",
       "      <th>...</th>\n",
       "      <td>...</td>\n",
       "      <td>...</td>\n",
       "      <td>...</td>\n",
       "      <td>...</td>\n",
       "      <td>...</td>\n",
       "      <td>...</td>\n",
       "      <td>...</td>\n",
       "      <td>...</td>\n",
       "      <td>...</td>\n",
       "      <td>...</td>\n",
       "      <td>...</td>\n",
       "      <td>...</td>\n",
       "      <td>...</td>\n",
       "      <td>...</td>\n",
       "      <td>...</td>\n",
       "      <td>...</td>\n",
       "      <td>...</td>\n",
       "      <td>...</td>\n",
       "      <td>...</td>\n",
       "      <td>...</td>\n",
       "      <td>...</td>\n",
       "    </tr>\n",
       "    <tr>\n",
       "      <th>13431</th>\n",
       "      <td>Jan20_LLL-3.tiff</td>\n",
       "      <td>PathCellObject</td>\n",
       "      <td>NaN</td>\n",
       "      <td>PathAnnotationObject</td>\n",
       "      <td>Polygon</td>\n",
       "      <td>1119.90</td>\n",
       "      <td>1006.90</td>\n",
       "      <td>141.0000</td>\n",
       "      <td>56.0000</td>\n",
       "      <td>0.5650</td>\n",
       "      <td>...</td>\n",
       "      <td>4.56</td>\n",
       "      <td>5.0</td>\n",
       "      <td>5</td>\n",
       "      <td>5</td>\n",
       "      <td>2.00</td>\n",
       "      <td>2.00</td>\n",
       "      <td>2.66</td>\n",
       "      <td>3.33</td>\n",
       "      <td>4.165</td>\n",
       "      <td>5.0</td>\n",
       "    </tr>\n",
       "    <tr>\n",
       "      <th>13432</th>\n",
       "      <td>Jan20_LLL-3.tiff</td>\n",
       "      <td>PathCellObject</td>\n",
       "      <td>NaN</td>\n",
       "      <td>PathAnnotationObject</td>\n",
       "      <td>Polygon</td>\n",
       "      <td>1196.10</td>\n",
       "      <td>1009.30</td>\n",
       "      <td>78.0000</td>\n",
       "      <td>42.0000</td>\n",
       "      <td>0.5557</td>\n",
       "      <td>...</td>\n",
       "      <td>4.98</td>\n",
       "      <td>5.0</td>\n",
       "      <td>5</td>\n",
       "      <td>5</td>\n",
       "      <td>4.00</td>\n",
       "      <td>4.00</td>\n",
       "      <td>4.00</td>\n",
       "      <td>5.00</td>\n",
       "      <td>5.740</td>\n",
       "      <td>6.0</td>\n",
       "    </tr>\n",
       "    <tr>\n",
       "      <th>13433</th>\n",
       "      <td>Jan20_LLL-3.tiff</td>\n",
       "      <td>PathCellObject</td>\n",
       "      <td>NaN</td>\n",
       "      <td>PathAnnotationObject</td>\n",
       "      <td>Polygon</td>\n",
       "      <td>1071.60</td>\n",
       "      <td>1011.10</td>\n",
       "      <td>75.0000</td>\n",
       "      <td>40.0000</td>\n",
       "      <td>0.5890</td>\n",
       "      <td>...</td>\n",
       "      <td>4.80</td>\n",
       "      <td>5.0</td>\n",
       "      <td>5</td>\n",
       "      <td>5</td>\n",
       "      <td>3.00</td>\n",
       "      <td>3.62</td>\n",
       "      <td>4.00</td>\n",
       "      <td>4.00</td>\n",
       "      <td>5.270</td>\n",
       "      <td>6.0</td>\n",
       "    </tr>\n",
       "    <tr>\n",
       "      <th>13434</th>\n",
       "      <td>Jan20_LLL-3.tiff</td>\n",
       "      <td>PathCellObject</td>\n",
       "      <td>NaN</td>\n",
       "      <td>PathAnnotationObject</td>\n",
       "      <td>Polygon</td>\n",
       "      <td>1217.20</td>\n",
       "      <td>1015.00</td>\n",
       "      <td>93.9998</td>\n",
       "      <td>43.9883</td>\n",
       "      <td>0.6105</td>\n",
       "      <td>...</td>\n",
       "      <td>5.90</td>\n",
       "      <td>6.0</td>\n",
       "      <td>6</td>\n",
       "      <td>6</td>\n",
       "      <td>4.92</td>\n",
       "      <td>5.00</td>\n",
       "      <td>5.96</td>\n",
       "      <td>6.98</td>\n",
       "      <td>7.000</td>\n",
       "      <td>7.0</td>\n",
       "    </tr>\n",
       "    <tr>\n",
       "      <th>13435</th>\n",
       "      <td>Jan20_LLL-3.tiff</td>\n",
       "      <td>PathCellObject</td>\n",
       "      <td>NaN</td>\n",
       "      <td>PathAnnotationObject</td>\n",
       "      <td>Polygon</td>\n",
       "      <td>939.39</td>\n",
       "      <td>1016.70</td>\n",
       "      <td>55.8576</td>\n",
       "      <td>35.7106</td>\n",
       "      <td>0.5504</td>\n",
       "      <td>...</td>\n",
       "      <td>2.00</td>\n",
       "      <td>2.0</td>\n",
       "      <td>2</td>\n",
       "      <td>2</td>\n",
       "      <td>0.00</td>\n",
       "      <td>0.00</td>\n",
       "      <td>0.00</td>\n",
       "      <td>1.02</td>\n",
       "      <td>2.000</td>\n",
       "      <td>2.0</td>\n",
       "    </tr>\n",
       "  </tbody>\n",
       "</table>\n",
       "<p>13436 rows × 2420 columns</p>\n",
       "</div>"
      ],
      "text/plain": [
       "                  Image            Name  Class                Parent      ROI  \\\n",
       "0      Mar21_LLL-2.tiff  PathCellObject    NaN  PathAnnotationObject  Polygon   \n",
       "1      Mar21_LLL-2.tiff  PathCellObject    NaN  PathAnnotationObject  Polygon   \n",
       "2      Mar21_LLL-2.tiff  PathCellObject    NaN  PathAnnotationObject  Polygon   \n",
       "3      Mar21_LLL-2.tiff  PathCellObject    NaN  PathAnnotationObject  Polygon   \n",
       "4      Mar21_LLL-2.tiff  PathCellObject    NaN  PathAnnotationObject  Polygon   \n",
       "...                 ...             ...    ...                   ...      ...   \n",
       "13431  Jan20_LLL-3.tiff  PathCellObject    NaN  PathAnnotationObject  Polygon   \n",
       "13432  Jan20_LLL-3.tiff  PathCellObject    NaN  PathAnnotationObject  Polygon   \n",
       "13433  Jan20_LLL-3.tiff  PathCellObject    NaN  PathAnnotationObject  Polygon   \n",
       "13434  Jan20_LLL-3.tiff  PathCellObject    NaN  PathAnnotationObject  Polygon   \n",
       "13435  Jan20_LLL-3.tiff  PathCellObject    NaN  PathAnnotationObject  Polygon   \n",
       "\n",
       "       Centroid X px  Centroid Y px  Nucleus: Area px^2  Nucleus: Length px  \\\n",
       "0            1380.10          49.80            315.7316             84.6482   \n",
       "1            1370.40          64.52            127.5231             52.6173   \n",
       "2            1387.80          66.11             55.9859             33.8894   \n",
       "3            1456.10          70.34            377.7602             91.4318   \n",
       "4            1326.40          74.08            225.9946             67.9238   \n",
       "...              ...            ...                 ...                 ...   \n",
       "13431        1119.90        1006.90            141.0000             56.0000   \n",
       "13432        1196.10        1009.30             78.0000             42.0000   \n",
       "13433        1071.60        1011.10             75.0000             40.0000   \n",
       "13434        1217.20        1015.00             93.9998             43.9883   \n",
       "13435         939.39        1016.70             55.8576             35.7106   \n",
       "\n",
       "       Nucleus: Circularity  ...  Vimentin: Membrane: Percentile: 98.0  \\\n",
       "0                    0.5537  ...                                  0.00   \n",
       "1                    0.5788  ...                                  3.00   \n",
       "2                    0.6126  ...                                  2.00   \n",
       "3                    0.5678  ...                                  0.00   \n",
       "4                    0.6155  ...                                  0.00   \n",
       "...                     ...  ...                                   ...   \n",
       "13431                0.5650  ...                                  4.56   \n",
       "13432                0.5557  ...                                  4.98   \n",
       "13433                0.5890  ...                                  4.80   \n",
       "13434                0.6105  ...                                  5.90   \n",
       "13435                0.5504  ...                                  2.00   \n",
       "\n",
       "       Vimentin: Membrane: Percentile: 99.0  \\\n",
       "0                                       0.0   \n",
       "1                                       3.0   \n",
       "2                                       2.0   \n",
       "3                                       0.0   \n",
       "4                                       0.0   \n",
       "...                                     ...   \n",
       "13431                                   5.0   \n",
       "13432                                   5.0   \n",
       "13433                                   5.0   \n",
       "13434                                   6.0   \n",
       "13435                                   2.0   \n",
       "\n",
       "       Vimentin: Membrane: Percentile: 99.5  \\\n",
       "0                                         0   \n",
       "1                                         3   \n",
       "2                                         2   \n",
       "3                                         0   \n",
       "4                                         0   \n",
       "...                                     ...   \n",
       "13431                                     5   \n",
       "13432                                     5   \n",
       "13433                                     5   \n",
       "13434                                     6   \n",
       "13435                                     2   \n",
       "\n",
       "       Vimentin: Membrane: Percentile: 99.9  Vimentin: Cell: Percentile: 96.0  \\\n",
       "0                                         0                              0.00   \n",
       "1                                         3                              1.00   \n",
       "2                                         2                              0.00   \n",
       "3                                         0                              0.00   \n",
       "4                                         0                              0.00   \n",
       "...                                     ...                               ...   \n",
       "13431                                     5                              2.00   \n",
       "13432                                     5                              4.00   \n",
       "13433                                     5                              3.00   \n",
       "13434                                     6                              4.92   \n",
       "13435                                     2                              0.00   \n",
       "\n",
       "       Vimentin: Cell: Percentile: 97.0  Vimentin: Cell: Percentile: 98.0  \\\n",
       "0                                  0.00                              2.28   \n",
       "1                                  2.00                              2.40   \n",
       "2                                  0.00                              1.76   \n",
       "3                                  0.00                              0.00   \n",
       "4                                  0.00                              0.00   \n",
       "...                                 ...                               ...   \n",
       "13431                              2.00                              2.66   \n",
       "13432                              4.00                              4.00   \n",
       "13433                              3.62                              4.00   \n",
       "13434                              5.00                              5.96   \n",
       "13435                              0.00                              0.00   \n",
       "\n",
       "       Vimentin: Cell: Percentile: 99.0  Vimentin: Cell: Percentile: 99.5  \\\n",
       "0                                  4.00                             5.000   \n",
       "1                                  3.00                             3.000   \n",
       "2                                  2.00                             2.000   \n",
       "3                                  0.00                             1.755   \n",
       "4                                  1.00                             2.000   \n",
       "...                                 ...                               ...   \n",
       "13431                              3.33                             4.165   \n",
       "13432                              5.00                             5.740   \n",
       "13433                              4.00                             5.270   \n",
       "13434                              6.98                             7.000   \n",
       "13435                              1.02                             2.000   \n",
       "\n",
       "       Vimentin: Cell: Percentile: 99.9  \n",
       "0                                   7.0  \n",
       "1                                   3.0  \n",
       "2                                   2.0  \n",
       "3                                   4.0  \n",
       "4                                   3.0  \n",
       "...                                 ...  \n",
       "13431                               5.0  \n",
       "13432                               6.0  \n",
       "13433                               6.0  \n",
       "13434                               7.0  \n",
       "13435                               2.0  \n",
       "\n",
       "[13436 rows x 2420 columns]"
      ]
     },
     "execution_count": 21,
     "metadata": {},
     "output_type": "execute_result"
    }
   ],
   "source": [
    "new_whole_data_fm_df"
   ]
  },
  {
   "cell_type": "code",
   "execution_count": null,
   "metadata": {},
   "outputs": [],
   "source": [
    "cleaned_df = whole_data_fm_df.iloc[:, :20]"
   ]
  },
  {
   "cell_type": "code",
   "execution_count": null,
   "metadata": {},
   "outputs": [],
   "source": [
    "try:\n",
    "    null_arr = cleaned_df.loc[:, \"Centroid X µm\"].isnull()\n",
    "    if null_arr.any() != False:\n",
    "        cleaned_df.loc[null_arr.values, \"Centroid X µm\"] = whole_data_fm_df.loc[null_arr.values, \"Centroid X px\"] * 0.3906\n",
    "        cleaned_df.drop([\"Centroid X px\"], axis=1)\n",
    "except:\n",
    "    cleaned_df.loc[:, \"Centroid X µm\"] = whole_data_fm_df.loc[:, \"Centroid X px\"] * 0.3906\n",
    "    cleaned_df = cleaned_df.drop([\"Centroid X px\"], axis=1)\n",
    "\n",
    "try:\n",
    "    null_arr = cleaned_df.loc[:, \"Centroid Y µm\"].isnull()\n",
    "    if null_arr.any() != False:\n",
    "        cleaned_df.loc[null_arr.values, \"Centroid Y µm\"] = whole_data_fm_df.loc[null_arr.values, \"Centroid Y px\"] * 0.3906\n",
    "        cleaned_df = cleaned_df.drop([\"Centroid Y px\"], axis=1)\n",
    "except:\n",
    "    cleaned_df.loc[:, \"Centroid Y µm\"] = whole_data_fm_df.loc[:, \"Centroid Y px\"] * 0.3906\n",
    "    cleaned_df = cleaned_df.drop([\"Centroid Y px\"], axis=1)"
   ]
  },
  {
   "cell_type": "code",
   "execution_count": null,
   "metadata": {},
   "outputs": [],
   "source": [
    "cleaned_df = pd.concat([cleaned_df, new_whole_data_fm_df], axis=1)"
   ]
  },
  {
   "cell_type": "code",
   "execution_count": null,
   "metadata": {},
   "outputs": [],
   "source": [
    "cleaned_df.to_csv(folder + \"{}_measurements_cleaned.csv\".format(batch_name), index=False)"
   ]
  },
  {
   "cell_type": "markdown",
   "metadata": {},
   "source": [
    "### Remove certain markers\n",
    "We will remove, Beta-Tubulin, dsDNA, and CD39 measurements as either the staining is bad or the marker is not informative"
   ]
  },
  {
   "cell_type": "code",
   "execution_count": null,
   "metadata": {},
   "outputs": [],
   "source": [
    "cols_to_remove = [x for x in new_whole_data_fm_df.columns if (\"Beta-Tubulin\" in x) or (\"dsDNA\" in x) or (\"CD39\" in x) or (\"IgG4\" in x) or (\"TCF1\" in x) or (\"Tantalum\" in x)]\n",
    "new_whole_data_fm_df = new_whole_data_fm_df.drop(columns=cols_to_remove)"
   ]
  },
  {
   "cell_type": "code",
   "execution_count": null,
   "metadata": {},
   "outputs": [],
   "source": [
    "all_means_all_percentiles_col = [col for col in new_whole_data_fm_df.columns if \"Percentile\" in col] + [col for col in new_whole_data_fm_df.columns if \"Mean\" in col] + [col for col in new_whole_data_fm_df.columns if \"Std.Dev.\" in col]\n",
    "all_means_all_percentiles_df = new_whole_data_fm_df.loc[:, all_means_all_percentiles_col]"
   ]
  },
  {
   "cell_type": "code",
   "execution_count": null,
   "metadata": {},
   "outputs": [],
   "source": [
    "all_means_all_percentiles_df"
   ]
  },
  {
   "cell_type": "code",
   "execution_count": null,
   "metadata": {},
   "outputs": [],
   "source": [
    "all_means_all_percentiles_df.to_csv(folder + \"{}_am_ap_astd_data.csv\".format(batch_name), index=False)"
   ]
  },
  {
   "cell_type": "markdown",
   "metadata": {},
   "source": [
    "## 1680 columns"
   ]
  },
  {
   "cell_type": "markdown",
   "metadata": {},
   "source": []
  }
 ],
 "metadata": {
  "kernelspec": {
   "display_name": "Python 3.10.6 ('xgboost-cell-classification')",
   "language": "python",
   "name": "python3"
  },
  "language_info": {
   "codemirror_mode": {
    "name": "ipython",
    "version": 3
   },
   "file_extension": ".py",
   "mimetype": "text/x-python",
   "name": "python",
   "nbconvert_exporter": "python",
   "pygments_lexer": "ipython3",
   "version": "3.10.6"
  },
  "orig_nbformat": 4,
  "vscode": {
   "interpreter": {
    "hash": "76ab5027b75e2f564af743d92b322b9cd59fa3e08912bbe69d218e42f22de9ea"
   }
  }
 },
 "nbformat": 4,
 "nbformat_minor": 2
}
