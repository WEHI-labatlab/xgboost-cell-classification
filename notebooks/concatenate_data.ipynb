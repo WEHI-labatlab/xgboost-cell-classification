{
 "cells": [
  {
   "attachments": {},
   "cell_type": "markdown",
   "metadata": {},
   "source": [
    "# Concatenate data\n",
    "This notebook will correct any incorrect column names before concatenating\n",
    "\n",
    "This will assume that every image in a particular csv was processed in the same manner. Eg. If one image has Target: prefix in front of the marker measurements, then this script will assume that every image in that csv file will also have this prefix. "
   ]
  },
  {
   "cell_type": "code",
   "execution_count": null,
   "metadata": {},
   "outputs": [],
   "source": [
    "%pwd\n",
    "# change you working directory to the xgboost-cell-phenotype folder\n",
    "%cd /Users/yokote.k/Desktop/MIBI/xgboost_demonstration/xgboost-cell-classification"
   ]
  },
  {
   "cell_type": "code",
   "execution_count": 21,
   "metadata": {},
   "outputs": [],
   "source": [
    "import pandas as pd\n",
    "import os"
   ]
  },
  {
   "cell_type": "code",
   "execution_count": 22,
   "metadata": {},
   "outputs": [],
   "source": [
    "\"\"\"\n",
    "To use this script, you must place all the csv files you want to concatenate into one folder.\n",
    "\n",
    "The variable parent_folder should be the path to this folder\n",
    "\"\"\"\n",
    "parent_folder = \"/Users/yokote.k/Desktop/MIBI/xgboost_demonstration/xgboost-cell-classification/resources/data/raw/training_data\"\n",
    "\n",
    "output_filename = \"/Users/yokote.k/Desktop/MIBI/xgboost_demonstration/xgboost-cell-classification/resources/data/raw/synaptophysin_training_data.csv\"\n"
   ]
  },
  {
   "cell_type": "code",
   "execution_count": 23,
   "metadata": {},
   "outputs": [],
   "source": [
    "files = [file for file in os.listdir(parent_folder) if \".csv\" in file]\n",
    "files"
   ]
  },
  {
   "cell_type": "code",
   "execution_count": 24,
   "metadata": {},
   "outputs": [],
   "source": [
    "df_list = list()\n",
    "for file in files:\n",
    "    df_ = pd.read_csv(os.path.join(parent_folder, file))\n",
    "    df_.columns = df_.columns.str.replace(\"Target:\", \"\")\n",
    "    df_.columns = df_.columns.str.replace(\"_\", \" \")\n",
    "    df_list.append(df_)\n",
    "\n",
    "# concatenate the data frames together\n",
    "concatted_df = pd.concat(df_list)\n",
    "\n",
    "# save the data frame\n",
    "concatted_df.to_csv(output_filename)"
   ]
  }
 ],
 "metadata": {
  "kernelspec": {
   "display_name": "xgboost-cell-classification",
   "language": "python",
   "name": "python3"
  },
  "language_info": {
   "codemirror_mode": {
    "name": "ipython",
    "version": 3
   },
   "file_extension": ".py",
   "mimetype": "text/x-python",
   "name": "python",
   "nbconvert_exporter": "python",
   "pygments_lexer": "ipython3",
   "version": "3.10.6"
  },
  "orig_nbformat": 4
 },
 "nbformat": 4,
 "nbformat_minor": 2
}
