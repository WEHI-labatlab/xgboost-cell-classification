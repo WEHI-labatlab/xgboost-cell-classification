{
 "cells": [
  {
   "attachments": {},
   "cell_type": "markdown",
   "metadata": {},
   "source": [
    "# Concatenate extra data\n",
    "This is for extra annotations you have made. To concatenate onto the main data.\n",
    "\n",
    "From QuPath, you export the entire image. This script will filter out certain cell types and add it to the main data frame. "
   ]
  },
  {
   "cell_type": "code",
   "execution_count": 2,
   "metadata": {},
   "outputs": [],
   "source": [
    "import pandas as pd"
   ]
  },
  {
   "cell_type": "code",
   "execution_count": 12,
   "metadata": {},
   "outputs": [],
   "source": [
    "\"\"\"\n",
    "The path to the main data frame you want to add to.\n",
    "\"\"\"\n",
    "main_expression_mat_path = \"/Users/yokote.k/Desktop/MIBI/xgboost_demonstration/xgboost-cell-classification/resources/data/raw/test_training_raw_data.csv\"\n",
    "\n",
    "\"\"\"\n",
    "The path to the extra data you want to add.\n",
    "\"\"\"\n",
    "extra_expression_mat_path = \"/Users/yokote.k/Desktop/MIBI/xgboost_demonstration/xgboost-cell-classification/resources/data/raw/test_training_raw_data.csv\"\n",
    "\n",
    "\"\"\"\n",
    "output file name\n",
    "\"\"\"\n",
    "output_filename = \"/Users/yokote.k/Desktop/MIBI/xgboost_demonstration/xgboost-cell-classification/resources/data/raw/synaptophysin_training_data.csv\"\n",
    "\n",
    "\n",
    "\"\"\"\n",
    "cell types to append\n",
    "\"\"\"\n",
    "extra_cell_types = [\"NK cells\", \"yd T cells\"]"
   ]
  },
  {
   "cell_type": "code",
   "execution_count": 8,
   "metadata": {},
   "outputs": [],
   "source": [
    "main_expression_df = pd.read_csv(main_expression_mat_path)\n",
    "extra_expression_df = pd.read_csv(extra_expression_mat_path)"
   ]
  },
  {
   "cell_type": "code",
   "execution_count": null,
   "metadata": {},
   "outputs": [],
   "source": [
    "extra_expression_df.columns = extra_expression_df.columns.str.replace(\"Target:\", \"\")\n",
    "extra_expression_df.columns = extra_expression_df.columns.str.replace(\"_\", \" \")"
   ]
  },
  {
   "cell_type": "code",
   "execution_count": 23,
   "metadata": {},
   "outputs": [
    {
     "name": "stderr",
     "output_type": "stream",
     "text": [
      "/var/folders/p7/n3b5q5y51j58b7c6qzgybxpr0003ys/T/ipykernel_25137/1433419359.py:2: UserWarning: This pattern is interpreted as a regular expression, and has match groups. To actually get the groups, use str.extract.\n",
      "  extra_bool_arr = extra_expression_df.loc[:, \"Name\"].str.contains(pattern)\n"
     ]
    }
   ],
   "source": [
    "pattern = \"(\" + \")|(\".join(extra_cell_types) + \")\"\n",
    "extra_bool_arr = extra_expression_df.loc[:, \"Name\"].str.contains(pattern)\n",
    "\n",
    "new_expression_df = pd.concat([main_expression_df, extra_expression_df.loc[extra_bool_arr, :]],)\n",
    "new_expression_df = new_expression_df.reset_index(drop=True)\n",
    "new_expression_df"
   ]
  },
  {
   "cell_type": "code",
   "execution_count": null,
   "metadata": {},
   "outputs": [],
   "source": [
    "new_expression_df.to_csv(output_filename)"
   ]
  }
 ],
 "metadata": {
  "kernelspec": {
   "display_name": "xgboost-cell-classification",
   "language": "python",
   "name": "python3"
  },
  "language_info": {
   "codemirror_mode": {
    "name": "ipython",
    "version": 3
   },
   "file_extension": ".py",
   "mimetype": "text/x-python",
   "name": "python",
   "nbconvert_exporter": "python",
   "pygments_lexer": "ipython3",
   "version": "3.10.6"
  },
  "orig_nbformat": 4
 },
 "nbformat": 4,
 "nbformat_minor": 2
}
